{
 "cells": [
  {
   "cell_type": "code",
   "execution_count": 174,
   "metadata": {},
   "outputs": [],
   "source": [
    "from nltk.tokenize import RegexpTokenizer\n",
    "from nltk.stem.porter import PorterStemmer\n",
    "from nltk.corpus import stopwords\n",
    "import sys\n",
    "import pandas as pd\n",
    "import numpy as np\n",
    "import nltk\n",
    "from sklearn.feature_extraction.text import TfidfVectorizer\n",
    "from sklearn.cross_validation import train_test_split\n",
    "from sklearn import naive_bayes\n",
    "from sklearn.metrics import roc_auc_score\n",
    "import matplotlib.pyplot as plt"
   ]
  },
  {
   "cell_type": "code",
   "execution_count": 192,
   "metadata": {},
   "outputs": [],
   "source": [
    "\n",
    "with open('imdb_trainX.txt',encoding=\"utf8\") as f:\n",
    "    dfx = f.readlines()\n",
    "\n",
    "for index, word in enumerate(dfx):\n",
    "    dfx[index] = word.strip()\n",
    "    \n",
    "with open('imdb_trainY.txt',encoding=\"utf8\") as f:\n",
    "    dfy = f.readlines()\n",
    "\n",
    "for index, word in enumerate(dfy):\n",
    "    dfy[index] = word.strip()"
   ]
  },
  {
   "cell_type": "code",
   "execution_count": 193,
   "metadata": {},
   "outputs": [
    {
     "name": "stdout",
     "output_type": "stream",
     "text": [
      "First things first, Edison Chen did a fantastic, believable job as a Cambodian hit-man, born and bred in the dumps and a gladiatorial ring, where he honed his craft of savage battery in order to survive, living on the mantra of kill or be killed. In a role that had little dialogue, or at least a few lines in Cambodian/Thai, his performance is compelling, probably what should have been in the Jet Li vehicle Danny the Dog, where a man is bred for the sole purpose of fighting, and on someone else's leash.<br /><br />Like Danny the Dog, the much talked about bare knuckle fight sequences are not choreographed stylistically, but rather designed as normal, brutal fisticuffs, where everything goes. This probably brought a sense of realism and grit when you see the characters slug it out at each other's throats, in defending their own lives while taking it away from others. It's a grim, gritty and dark movie both literally and figuratively, and this sets it apart from the usual run off the mill cop thriller production.<br /><br />Edison plays a hired gun from Cambodia, who becomes a fugitive in Hong Kong, on the run from the cops as his pickup had gone awry. Leading the chase is the team led by Cheung Siu-Fai, who has to contend with maverick member Inspector Ti (Sam Lee), who's inclusion and acceptance in the team had to do with the sins of his father. So begins a cat and mouse game in the dark shades and shadows of the seedier looking side of Hong Kong.<br /><br />The story itself works on multiple levels, especially in the character studies of the hit-man, and the cop. On opposite sides of the law, we see within each character not the black and white, but the shades of grey. With the hit-man, we see his caring side when he got hooked up and developed feelings of love for a girl (Pei Pei), bringing about a sense of maturity, tenderness, and revealing a heart of gold. The cop, with questionable tactics and attitudes, makes you wonder how one would buckle when willing to do anything it takes to get the job done. There are many interesting moments of moral questioning, on how anti-hero, despicable strategies are adopted. You'll ask, what makes a man, and what makes a beast, and if we have the tendency to switch sides depending on circumstances - do we have that dark inner streak in all of us, transforming from man to dog, and dog to man? Dog Bite Dog grips you from the start and never lets go until the end, though there are points mid way through that seemed to drag, especially on its tender moments, and it suffered too from not knowing when to end. If I should pick a favourite scene, then it must be the one in the market food centre - extremely well controlled and delivered, a suspenseful edge of your seat moment. Listen out for the musical score too, and you're not dreaming if you hear growls of dogs.<br /><br />Highly recommended, especially if you think that you've seen about almost everything from the cop thriller genre.\n"
     ]
    }
   ],
   "source": [
    "print(dfx[1])"
   ]
  },
  {
   "cell_type": "code",
   "execution_count": 194,
   "metadata": {},
   "outputs": [
    {
     "name": "stdout",
     "output_type": "stream",
     "text": [
      "8\n"
     ]
    }
   ],
   "source": [
    "print(dfy[1])"
   ]
  },
  {
   "cell_type": "code",
   "execution_count": null,
   "metadata": {},
   "outputs": [],
   "source": []
  },
  {
   "cell_type": "code",
   "execution_count": 195,
   "metadata": {},
   "outputs": [],
   "source": [
    "stopset=set(stopwords.words('english'))\n",
    "vectorizer=TfidfVectorizer(use_idf=True,lowercase=True,strip_accents='ascii',stop_words=stopset)"
   ]
  },
  {
   "cell_type": "code",
   "execution_count": 196,
   "metadata": {},
   "outputs": [],
   "source": [
    "y=np.array(dfy)"
   ]
  },
  {
   "cell_type": "code",
   "execution_count": 197,
   "metadata": {},
   "outputs": [],
   "source": [
    "x=vectorizer.fit_transform(dfx)"
   ]
  },
  {
   "cell_type": "code",
   "execution_count": 198,
   "metadata": {},
   "outputs": [
    {
     "name": "stdout",
     "output_type": "stream",
     "text": [
      "  (0, 39505)\t0.1504138733299827\n",
      "  (0, 44064)\t0.11214030107544876\n",
      "  (0, 60226)\t0.12429201266741148\n",
      "  (0, 57562)\t0.12053829063910215\n",
      "  (0, 46931)\t0.1629336496233641\n",
      "  (0, 16672)\t0.12824402534325652\n",
      "  (0, 67397)\t0.19180474740459955\n",
      "  (0, 6439)\t0.13643853883299367\n",
      "  (0, 63585)\t0.21637102385498902\n",
      "  (0, 53966)\t0.14113061266679008\n",
      "  (0, 58467)\t0.1346903181505518\n",
      "  (0, 72104)\t0.09479722056889907\n",
      "  (0, 23646)\t0.12997342368428852\n",
      "  (0, 23742)\t0.12345761991019609\n",
      "  (0, 8720)\t0.11536861302412052\n",
      "  (0, 44121)\t0.28705156909276147\n",
      "  (0, 53490)\t0.16659931819863355\n",
      "  (0, 49463)\t0.23786208646422008\n",
      "  (0, 120)\t0.21303958914630647\n",
      "  (0, 66242)\t0.2932327536011736\n",
      "  (0, 21227)\t0.17229819086739864\n",
      "  (0, 51884)\t0.28274737945815664\n",
      "  (0, 57747)\t0.10733464449878378\n",
      "  (0, 18642)\t0.3925157562869275\n",
      "  (0, 46106)\t0.1844205733216206\n",
      "  :\t:\n",
      "  (24999, 15396)\t0.12721080428006679\n",
      "  (24999, 74079)\t0.09072767078277615\n",
      "  (24999, 11774)\t0.11888213123109767\n",
      "  (24999, 37768)\t0.08847455426655541\n",
      "  (24999, 21747)\t0.37951194996661824\n",
      "  (24999, 64001)\t0.15232445171446124\n",
      "  (24999, 36503)\t0.13405828029847333\n",
      "  (24999, 46725)\t0.07931864985970889\n",
      "  (24999, 20753)\t0.18559017937679975\n",
      "  (24999, 15118)\t0.10206778996413118\n",
      "  (24999, 27267)\t0.17388423552905244\n",
      "  (24999, 49278)\t0.10453310208403137\n",
      "  (24999, 4573)\t0.14973724291280308\n",
      "  (24999, 15338)\t0.15415777039765044\n",
      "  (24999, 50259)\t0.11570420375565167\n",
      "  (24999, 18293)\t0.14064817323779732\n",
      "  (24999, 73562)\t0.09073942803941254\n",
      "  (24999, 15438)\t0.13144906459338376\n",
      "  (24999, 11999)\t0.15479796536592078\n",
      "  (24999, 19735)\t0.18177012371198487\n",
      "  (24999, 12162)\t0.2247338285941154\n",
      "  (24999, 57680)\t0.1596132277133082\n",
      "  (24999, 47143)\t0.20623036805339837\n",
      "  (24999, 65210)\t0.2306906123948119\n",
      "  (24999, 55809)\t0.260017903485422\n"
     ]
    }
   ],
   "source": [
    "print(x)"
   ]
  },
  {
   "cell_type": "code",
   "execution_count": 199,
   "metadata": {},
   "outputs": [],
   "source": [
    "X_train,X_test,y_train,y_test=train_test_split(x,y,test_size=0.33,random_state=42)"
   ]
  },
  {
   "cell_type": "code",
   "execution_count": 200,
   "metadata": {},
   "outputs": [
    {
     "name": "stdout",
     "output_type": "stream",
     "text": [
      "(16750, 74681)\n",
      "(16750,)\n",
      "(8250, 74681)\n",
      "(8250,)\n"
     ]
    }
   ],
   "source": [
    "print(X_train.shape)\n",
    "\n",
    "print(y_train.shape)\n",
    "print(X_test.shape)\n",
    "print(y_test.shape)"
   ]
  },
  {
   "cell_type": "code",
   "execution_count": 201,
   "metadata": {},
   "outputs": [
    {
     "data": {
      "text/plain": [
       "MultinomialNB(alpha=1.0, class_prior=None, fit_prior=True)"
      ]
     },
     "execution_count": 201,
     "metadata": {},
     "output_type": "execute_result"
    }
   ],
   "source": [
    "clf=naive_bayes.MultinomialNB()\n",
    "clf.fit(X_train,y_train)"
   ]
  },
  {
   "cell_type": "code",
   "execution_count": null,
   "metadata": {},
   "outputs": [],
   "source": []
  },
  {
   "cell_type": "code",
   "execution_count": 202,
   "metadata": {},
   "outputs": [
    {
     "name": "stdout",
     "output_type": "stream",
     "text": [
      "['1' '10' '10' ... '10' '1' '1']\n",
      "['7' '3' '10' ... '10' '3' '1']\n"
     ]
    }
   ],
   "source": [
    "y_pred=clf.predict(X_test)\n",
    "print(y_pred)\n",
    "print(y_test)"
   ]
  },
  {
   "cell_type": "code",
   "execution_count": 203,
   "metadata": {},
   "outputs": [],
   "source": [
    "s=0\n",
    "for i in range(y_pred.shape[0]):\n",
    "     if(y_pred[i]==y_test[i]):\n",
    "             s=s+1\n",
    "       "
   ]
  },
  {
   "cell_type": "code",
   "execution_count": 204,
   "metadata": {},
   "outputs": [
    {
     "name": "stdout",
     "output_type": "stream",
     "text": [
      "8250\n",
      "2924\n"
     ]
    }
   ],
   "source": [
    "a=y_pred.shape[0]\n",
    "print(a)\n",
    "print(s)"
   ]
  },
  {
   "cell_type": "code",
   "execution_count": 205,
   "metadata": {},
   "outputs": [
    {
     "name": "stdout",
     "output_type": "stream",
     "text": [
      "35.442424242424245 %\n"
     ]
    }
   ],
   "source": [
    "score=(s/a)*100\n",
    "print(score,\"%\")"
   ]
  },
  {
   "cell_type": "code",
   "execution_count": 214,
   "metadata": {},
   "outputs": [],
   "source": [
    "from sklearn.metrics import confusion_matrix"
   ]
  },
  {
   "cell_type": "code",
   "execution_count": 215,
   "metadata": {},
   "outputs": [
    {
     "name": "stdout",
     "output_type": "stream",
     "text": [
      "[[1678   50    0    0    0    0    0    0]\n",
      " [ 297 1245    0    0    0    0    0    0]\n",
      " [ 716   29    0    0    0    0    0    0]\n",
      " [ 698   87    0    0    1    0    0    0]\n",
      " [ 728  146    0    0    0    0    0    0]\n",
      " [ 320  479    0    0    0    0    1    0]\n",
      " [ 273  752    0    0    0    0    1    0]\n",
      " [ 147  601    0    0    0    0    1    0]]\n"
     ]
    }
   ],
   "source": [
    "cm = confusion_matrix(y_test, y_pred)\n",
    "print(cm)"
   ]
  },
  {
   "cell_type": "code",
   "execution_count": 191,
   "metadata": {},
   "outputs": [
    {
     "data": {
      "text/plain": [
       "Text(69,0.5,'Truth')"
      ]
     },
     "execution_count": 191,
     "metadata": {},
     "output_type": "execute_result"
    },
    {
     "data": {
      "image/png": "[encoded data removed]",
      "text/plain": [
       "<Figure size 720x504 with 2 Axes>"
      ]
     },
     "metadata": {},
     "output_type": "display_data"
    }
   ],
   "source": [
    "import seaborn as sn\n",
    "plt.figure(figsize = (10,7))\n",
    "sn.heatmap(cm, annot=True)\n",
    "plt.xlabel('Predicted')\n",
    "plt.ylabel('Truth')"
   ]
  },
  {
   "cell_type": "code",
   "execution_count": 208,
   "metadata": {},
   "outputs": [],
   "source": [
    "bnb =naive_bayes.BernoulliNB()"
   ]
  },
  {
   "cell_type": "code",
   "execution_count": 209,
   "metadata": {},
   "outputs": [
    {
     "data": {
      "text/plain": [
       "BernoulliNB(alpha=1.0, binarize=0.0, class_prior=None, fit_prior=True)"
      ]
     },
     "execution_count": 209,
     "metadata": {},
     "output_type": "execute_result"
    }
   ],
   "source": [
    "bnb.fit(X_train,y_train)"
   ]
  },
  {
   "cell_type": "code",
   "execution_count": 210,
   "metadata": {},
   "outputs": [
    {
     "name": "stdout",
     "output_type": "stream",
     "text": [
      "['1' '10' '10' ... '10' '1' '1']\n",
      "['7' '3' '10' ... '10' '3' '1']\n"
     ]
    }
   ],
   "source": [
    "Y_pred=bnb.predict(X_test)\n",
    "print(y_pred)\n",
    "print(y_test)"
   ]
  },
  {
   "cell_type": "code",
   "execution_count": 211,
   "metadata": {},
   "outputs": [],
   "source": [
    "s=0\n",
    "for i in range(y_pred.shape[0]):\n",
    "     if(y_pred[i]==y_test[i]):\n",
    "             s=s+1"
   ]
  },
  {
   "cell_type": "code",
   "execution_count": 212,
   "metadata": {},
   "outputs": [
    {
     "name": "stdout",
     "output_type": "stream",
     "text": [
      "8250\n",
      "2924\n"
     ]
    }
   ],
   "source": [
    "a=y_pred.shape[0]\n",
    "print(a)\n",
    "print(s)"
   ]
  },
  {
   "cell_type": "code",
   "execution_count": 213,
   "metadata": {},
   "outputs": [
    {
     "name": "stdout",
     "output_type": "stream",
     "text": [
      "35.442424242424245 %\n"
     ]
    }
   ],
   "source": [
    "score=(s/a)*100\n",
    "print(score,\"%\")"
   ]
  },
  {
   "cell_type": "code",
   "execution_count": 216,
   "metadata": {},
   "outputs": [
    {
     "name": "stdout",
     "output_type": "stream",
     "text": [
      "[[1500   86    6   45   73    9    9    0]\n",
      " [ 144 1208    0    2   11   49  107   21]\n",
      " [ 592   60    3   27   48    7    7    1]\n",
      " [ 495  124    3   45   87   15   17    0]\n",
      " [ 457  185    1   29  133   34   35    0]\n",
      " [ 160  387    0    9   34   98  100   12]\n",
      " [ 132  614    0    2   17   91  162    8]\n",
      " [  63  513    0    1    5   43  112   12]]\n"
     ]
    }
   ],
   "source": [
    "cm = confusion_matrix(y_test, Y_pred)\n",
    "print(cm)"
   ]
  },
  {
   "cell_type": "code",
   "execution_count": 217,
   "metadata": {},
   "outputs": [
    {
     "data": {
      "text/plain": [
       "Text(69,0.5,'Truth')"
      ]
     },
     "execution_count": 217,
     "metadata": {},
     "output_type": "execute_result"
    },
    {
     "data": {
      "image/png": "[encoded data removed]",
      "text/plain": [
       "<Figure size 720x504 with 2 Axes>"
      ]
     },
     "metadata": {},
     "output_type": "display_data"
    }
   ],
   "source": [
    "import seaborn as sn\n",
    "plt.figure(figsize = (10,7))\n",
    "sn.heatmap(cm, annot=True)\n",
    "plt.xlabel('Predicted')\n",
    "plt.ylabel('Truth')"
   ]
  },
  {
   "cell_type": "code",
   "execution_count": null,
   "metadata": {},
   "outputs": [],
   "source": []
  }
 ],
 "metadata": {
  "kernelspec": {
   "display_name": "Python 3",
   "language": "python",
   "name": "python3"
  },
  "language_info": {
   "codemirror_mode": {
    "name": "ipython",
    "version": 3
   },
   "file_extension": ".py",
   "mimetype": "text/x-python",
   "name": "python",
   "nbconvert_exporter": "python",
   "pygments_lexer": "ipython3",
   "version": "3.6.5"
  }
 },
 "nbformat": 4,
 "nbformat_minor": 2
}
